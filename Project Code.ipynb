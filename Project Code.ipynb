{
  "nbformat": 4,
  "nbformat_minor": 0,
  "metadata": {
    "colab": {
      "provenance": []
    },
    "kernelspec": {
      "name": "python3",
      "display_name": "Python 3"
    },
    "language_info": {
      "name": "python"
    }
  },
  "cells": [
    {
      "cell_type": "markdown",
      "source": [
        "#Fitting Binarized Neural Networks"
      ],
      "metadata": {
        "id": "PSe1gJGUNlSB"
      }
    },
    {
      "cell_type": "code",
      "source": [
        "! pip install python-sat"
      ],
      "metadata": {
        "colab": {
          "base_uri": "https://localhost:8080/"
        },
        "id": "f9yFOYXdkJ6H",
        "outputId": "de3d5177-7661-4e18-c42b-99e5b91736c7"
      },
      "execution_count": null,
      "outputs": [
        {
          "output_type": "stream",
          "name": "stdout",
          "text": [
            "Requirement already satisfied: python-sat in /usr/local/lib/python3.10/dist-packages (0.1.8.dev7)\n",
            "Requirement already satisfied: six in /usr/local/lib/python3.10/dist-packages (from python-sat) (1.16.0)\n"
          ]
        }
      ]
    },
    {
      "cell_type": "code",
      "source": [
        "from pysat.formula import WCNF\n",
        "from pysat.examples.rc2 import RC2\n",
        "import itertools\n",
        "import numpy as np\n",
        "import operator\n",
        "import time\n",
        "from sklearn.metrics import accuracy_score\n",
        "np.random.seed(42)"
      ],
      "metadata": {
        "id": "sxcuDUgChxvr"
      },
      "execution_count": null,
      "outputs": []
    },
    {
      "cell_type": "code",
      "source": [
        "time1=time.time()"
      ],
      "metadata": {
        "id": "CDXG_USFU0qi"
      },
      "execution_count": null,
      "outputs": []
    },
    {
      "cell_type": "code",
      "execution_count": null,
      "metadata": {
        "id": "tZvztJ4gM40y"
      },
      "outputs": [],
      "source": [
        "N = 5\n",
        "P = 3\n",
        "M = 3"
      ]
    },
    {
      "cell_type": "code",
      "source": [
        "Nh = N//2+1\n",
        "Ph = P//2+1"
      ],
      "metadata": {
        "id": "TkzsIF_38jFN"
      },
      "execution_count": null,
      "outputs": []
    },
    {
      "cell_type": "code",
      "source": [
        "Ncombinations = list(itertools.product([0, 1], repeat=N))"
      ],
      "metadata": {
        "id": "juVLxGMWhq0Q"
      },
      "execution_count": null,
      "outputs": []
    },
    {
      "cell_type": "code",
      "source": [
        "Ncombinations"
      ],
      "metadata": {
        "colab": {
          "base_uri": "https://localhost:8080/"
        },
        "id": "hRjyaYTSlJSt",
        "outputId": "316c975b-5915-4ed9-e072-f59667960b08"
      },
      "execution_count": null,
      "outputs": [
        {
          "output_type": "execute_result",
          "data": {
            "text/plain": [
              "[(0, 0, 0, 0, 0),\n",
              " (0, 0, 0, 0, 1),\n",
              " (0, 0, 0, 1, 0),\n",
              " (0, 0, 0, 1, 1),\n",
              " (0, 0, 1, 0, 0),\n",
              " (0, 0, 1, 0, 1),\n",
              " (0, 0, 1, 1, 0),\n",
              " (0, 0, 1, 1, 1),\n",
              " (0, 1, 0, 0, 0),\n",
              " (0, 1, 0, 0, 1),\n",
              " (0, 1, 0, 1, 0),\n",
              " (0, 1, 0, 1, 1),\n",
              " (0, 1, 1, 0, 0),\n",
              " (0, 1, 1, 0, 1),\n",
              " (0, 1, 1, 1, 0),\n",
              " (0, 1, 1, 1, 1),\n",
              " (1, 0, 0, 0, 0),\n",
              " (1, 0, 0, 0, 1),\n",
              " (1, 0, 0, 1, 0),\n",
              " (1, 0, 0, 1, 1),\n",
              " (1, 0, 1, 0, 0),\n",
              " (1, 0, 1, 0, 1),\n",
              " (1, 0, 1, 1, 0),\n",
              " (1, 0, 1, 1, 1),\n",
              " (1, 1, 0, 0, 0),\n",
              " (1, 1, 0, 0, 1),\n",
              " (1, 1, 0, 1, 0),\n",
              " (1, 1, 0, 1, 1),\n",
              " (1, 1, 1, 0, 0),\n",
              " (1, 1, 1, 0, 1),\n",
              " (1, 1, 1, 1, 0),\n",
              " (1, 1, 1, 1, 1)]"
            ]
          },
          "metadata": {},
          "execution_count": 52
        }
      ]
    },
    {
      "cell_type": "code",
      "source": [
        "np.random.shuffle(Ncombinations)"
      ],
      "metadata": {
        "id": "gAmVX4Iulcxp"
      },
      "execution_count": null,
      "outputs": []
    },
    {
      "cell_type": "code",
      "source": [
        "train = Ncombinations[:int(len(Ncombinations)*0.65)]\n",
        "test = Ncombinations[int(len(Ncombinations)*0.65):]\n",
        "\n",
        "#fun with N=3,M=3\n",
        "# def true_funct(x):\n",
        "#   m=[]\n",
        "#   #funct 1\n",
        "#   if ((x[0] or x[1]) and (x[2])):\n",
        "#     m.append(1)\n",
        "#   else:\n",
        "#     m.append(0)\n",
        "#   #funct 2\n",
        "#   if (x[0] or (x[1] and x[2])):\n",
        "#     m.append(1)\n",
        "#   else:\n",
        "#     m.append(0)\n",
        "#   #funct 3\n",
        "#   if (not x[1]):\n",
        "#     m.append(1)\n",
        "#   else:\n",
        "#     m.append(0)\n",
        "#  return m\n",
        "\n",
        "#fun with N=4,M=3\n",
        "# def true_funct(x):\n",
        "#   m=[]\n",
        "#   #funct 1\n",
        "#   if (((x[0] or x[1]) and (x[2] or x[3])) or (not x[0] and not x[2])):\n",
        "#     m.append(1)\n",
        "#   else:\n",
        "#     m.append(0)\n",
        "#   #funct 2\n",
        "#   if ((x[0] and x[1] and x[2]) or (x[3])):\n",
        "#     m.append(1)\n",
        "#   else:\n",
        "#     m.append(0)\n",
        "#   #funct 3\n",
        "#   if (not x[1] and not x[3]):\n",
        "#     m.append(1)\n",
        "#   else:\n",
        "#     m.append(0)\n",
        "#  return m\n",
        "\n",
        "#fun with N=5,M=3\n",
        "def true_funct(x):\n",
        "  m=[]\n",
        "  #funct 1\n",
        "  if (((x[0] or x[1]) and (x[2] or x[3])) or (x[4] and (not x[0] and not x[2]))):\n",
        "    m.append(1)\n",
        "  else:\n",
        "    m.append(0)\n",
        "  #funct 2\n",
        "  if ((x[0] and x[1] and x[2]) or (x[3] and x[4])):\n",
        "    m.append(1)\n",
        "  else:\n",
        "    m.append(0)\n",
        "  #funct 3\n",
        "  if (not x[1] and not x[3] and not x[4]):\n",
        "    m.append(1)\n",
        "  else:\n",
        "    m.append(0)\n",
        "  return m"
      ],
      "metadata": {
        "id": "ARtmWIInlr4v"
      },
      "execution_count": null,
      "outputs": []
    },
    {
      "cell_type": "code",
      "source": [
        "y_train = [\n",
        "    true_funct(x) for x in train\n",
        "]\n",
        "\n",
        "y_test = [\n",
        "    true_funct(x) for x in test\n",
        "]"
      ],
      "metadata": {
        "id": "3SXNLPZzpdgp"
      },
      "execution_count": null,
      "outputs": []
    },
    {
      "cell_type": "code",
      "source": [
        "y_train"
      ],
      "metadata": {
        "colab": {
          "base_uri": "https://localhost:8080/"
        },
        "id": "R1Zh30bM3QiS",
        "outputId": "61b96be1-bba4-4852-8280-c996ffc53776"
      },
      "execution_count": null,
      "outputs": [
        {
          "output_type": "execute_result",
          "data": {
            "text/plain": [
              "[[1, 1, 0],\n",
              " [1, 1, 0],\n",
              " [0, 0, 0],\n",
              " [0, 0, 0],\n",
              " [0, 0, 0],\n",
              " [1, 0, 0],\n",
              " [1, 1, 0],\n",
              " [0, 0, 0],\n",
              " [1, 0, 0],\n",
              " [0, 0, 1],\n",
              " [0, 0, 1],\n",
              " [0, 0, 1],\n",
              " [0, 0, 0],\n",
              " [1, 0, 0],\n",
              " [1, 1, 0],\n",
              " [1, 1, 0],\n",
              " [1, 0, 0],\n",
              " [0, 0, 0],\n",
              " [1, 0, 0],\n",
              " [1, 1, 0]]"
            ]
          },
          "metadata": {},
          "execution_count": 56
        }
      ]
    },
    {
      "cell_type": "code",
      "source": [
        "def SATindex_x_i_n(i, n):\n",
        "    return i * (len(train[0])) + n + 1\n",
        "# get the index representing the i-th weight\n",
        "def SATindex_w1_n_p(n, p):\n",
        "  return len(train)*len(train[0])+(n*P)+p+1\n",
        "def SATindex_w2_p_m(p,m):\n",
        "  return len(train)*len(train[0])+(N*P)+(p*M)+m+1"
      ],
      "metadata": {
        "id": "j0Y3D4zFptLx"
      },
      "execution_count": null,
      "outputs": []
    },
    {
      "cell_type": "code",
      "source": [
        "wcnf = WCNF()"
      ],
      "metadata": {
        "id": "wpsEsipw0ZN2"
      },
      "execution_count": null,
      "outputs": []
    },
    {
      "cell_type": "code",
      "source": [
        "for i in range(len(train)):\n",
        "    for j in range(len(train[0])):\n",
        "        if train[i][j] > 0:\n",
        "            wcnf.append([SATindex_x_i_n(i,j)])\n",
        "        else:\n",
        "            wcnf.append([-SATindex_x_i_n(i,j)])"
      ],
      "metadata": {
        "id": "P0OsStN11FfQ"
      },
      "execution_count": null,
      "outputs": []
    },
    {
      "cell_type": "code",
      "source": [
        "print(wcnf.hard)"
      ],
      "metadata": {
        "colab": {
          "base_uri": "https://localhost:8080/"
        },
        "id": "pyw0xwD11qWO",
        "outputId": "045d452a-f5f8-4b12-f0e5-d26bd1450988"
      },
      "execution_count": null,
      "outputs": [
        {
          "output_type": "stream",
          "name": "stdout",
          "text": [
            "[[1], [2], [3], [-4], [5], [-6], [7], [8], [9], [10], [11], [12], [-13], [-14], [-15], [16], [-17], [-18], [-19], [20], [-21], [22], [-23], [-24], [-25], [-26], [27], [-28], [-29], [30], [31], [32], [33], [34], [-35], [36], [37], [-38], [-39], [40], [-41], [42], [43], [-44], [-45], [-46], [-47], [-48], [-49], [-50], [-51], [-52], [53], [-54], [-55], [56], [-57], [-58], [-59], [-60], [-61], [-62], [63], [-64], [65], [-66], [67], [68], [-69], [70], [-71], [72], [-73], [74], [75], [76], [-77], [78], [79], [80], [-81], [-82], [-83], [-84], [85], [-86], [-87], [-88], [89], [-90], [91], [92], [-93], [94], [-95], [-96], [-97], [-98], [99], [100]]\n"
          ]
        }
      ]
    },
    {
      "cell_type": "code",
      "source": [
        "Ncomb = list(itertools.combinations(range(N), Nh))\n",
        "Ncombneg = list(itertools.combinations(range(N), N-Nh+1))\n",
        "Pcomb = list(itertools.combinations(range(P), Ph))\n",
        "Pcombneg = list(itertools.combinations(range(P), P-Ph+1))\n",
        "multNcomb = list(itertools.product([-1, 1], repeat=Nh))\n",
        "multNcombneg = list(itertools.product([-1, 1], repeat=N-Nh+1))\n",
        "multPcomb = list(itertools.product([-1, 1], repeat=Ph))\n",
        "multPcombneg = list(itertools.product([-1, 1], repeat=P-Ph+1))"
      ],
      "metadata": {
        "id": "2DCZQIux90Qu"
      },
      "execution_count": null,
      "outputs": []
    },
    {
      "cell_type": "code",
      "source": [
        "def combine(l):\n",
        "  tmpa = l[0]\n",
        "  for lnum in range(1,len(l)):\n",
        "    tmpb = np.asarray(list(itertools.product(tmpa, l[lnum])),dtype=object).tolist()\n",
        "    tmpa = tmpb\n",
        "    for q in range(len(tmpa)):\n",
        "      for item in tmpa[q][1]:\n",
        "        tmpa[q][0].append(item)\n",
        "      tmpc=tmpa[q][0]\n",
        "      tmpa[q]=tmpc\n",
        "  return tmpa"
      ],
      "metadata": {
        "id": "Q9lpmn_WirRq"
      },
      "execution_count": null,
      "outputs": []
    },
    {
      "cell_type": "code",
      "source": [
        "start = time.time()\n",
        "\n",
        "for x_num in range(len(y_train)):\n",
        "  for m in range(len(y_train[x_num])):\n",
        "    if y_train[x_num][m]==1:\n",
        "      print(\"positive, y: \"+str(x_num+1)+\", \"+str(m+1))\n",
        "      for i in Pcomb:\n",
        "        tmp2 = [[] for z in itertools.repeat(None, len(i))]\n",
        "        for p_num in range(len(i)):\n",
        "          for k in multNcomb:\n",
        "            for j in Ncomb:\n",
        "              tmp=[]\n",
        "              tmp.append(SATindex_w2_p_m(i[p_num],m))\n",
        "              for num_n in range(len(j)):\n",
        "                tmp.append(k[num_n]*SATindex_w1_n_p(j[num_n],i[p_num]))\n",
        "                tmp.append(k[num_n]*SATindex_x_i_n(x_num,j[num_n]))\n",
        "              tmp2[p_num].append(tmp)\n",
        "          for k in multNcombneg:\n",
        "            for j in Ncombneg:\n",
        "              tmp=[]\n",
        "              tmp.append(-SATindex_w2_p_m(i[p_num],m))\n",
        "              for num_n in range(len(j)):\n",
        "                tmp.append(k[num_n]*SATindex_w1_n_p(j[num_n],i[p_num]))\n",
        "                tmp.append(-k[num_n]*SATindex_x_i_n(x_num,j[num_n]))\n",
        "              tmp2[p_num].append(tmp)\n",
        "        tmp3 = combine(tmp2)\n",
        "        for lst in tmp3:\n",
        "          wcnf.append(lst, weight=1)\n",
        "    else:\n",
        "      print(\"negative, y: \"+str(x_num+1)+\", \"+str(m+1))\n",
        "      for i in Pcombneg:\n",
        "        tmp2 = [[] for z in itertools.repeat(None, len(i))]\n",
        "        for p_num in range(len(i)):\n",
        "          for k in multNcomb:\n",
        "            for j in Ncomb:\n",
        "              tmp=[]\n",
        "              tmp.append(-SATindex_w2_p_m(i[p_num],m))\n",
        "              for num_n in range(len(j)):\n",
        "                tmp.append(k[num_n]*SATindex_w1_n_p(j[num_n],i[p_num]))\n",
        "                tmp.append(k[num_n]*SATindex_x_i_n(x_num,j[num_n]))\n",
        "              tmp2[p_num].append(tmp)\n",
        "          for k in multNcombneg:\n",
        "            for j in Ncombneg:\n",
        "              tmp=[]\n",
        "              tmp.append(SATindex_w2_p_m(i[p_num],m))\n",
        "              for num_n in range(len(j)):\n",
        "                tmp.append(k[num_n]*SATindex_w1_n_p(j[num_n],i[p_num]))\n",
        "                tmp.append(-k[num_n]*SATindex_x_i_n(x_num,j[num_n]))\n",
        "              tmp2[p_num].append(tmp)\n",
        "        tmp3 = combine(tmp2)\n",
        "        for lst in tmp3:\n",
        "          wcnf.append(lst, weight=1)\n",
        "\n",
        "end = time.time()\n",
        "print(end - start)"
      ],
      "metadata": {
        "id": "Dk7kPKKl2jMM",
        "colab": {
          "base_uri": "https://localhost:8080/"
        },
        "outputId": "c07cc419-a7b1-46c7-d627-879968219528"
      },
      "execution_count": null,
      "outputs": [
        {
          "output_type": "stream",
          "name": "stdout",
          "text": [
            "positive, y: 1, 1\n",
            "positive, y: 1, 2\n",
            "negative, y: 1, 3\n",
            "positive, y: 2, 1\n",
            "positive, y: 2, 2\n",
            "negative, y: 2, 3\n",
            "negative, y: 3, 1\n",
            "negative, y: 3, 2\n",
            "negative, y: 3, 3\n",
            "negative, y: 4, 1\n",
            "negative, y: 4, 2\n",
            "negative, y: 4, 3\n",
            "negative, y: 5, 1\n",
            "negative, y: 5, 2\n",
            "negative, y: 5, 3\n",
            "positive, y: 6, 1\n",
            "negative, y: 6, 2\n",
            "negative, y: 6, 3\n",
            "positive, y: 7, 1\n",
            "positive, y: 7, 2\n",
            "negative, y: 7, 3\n",
            "negative, y: 8, 1\n",
            "negative, y: 8, 2\n",
            "negative, y: 8, 3\n",
            "positive, y: 9, 1\n",
            "negative, y: 9, 2\n",
            "negative, y: 9, 3\n",
            "negative, y: 10, 1\n",
            "negative, y: 10, 2\n",
            "positive, y: 10, 3\n",
            "negative, y: 11, 1\n",
            "negative, y: 11, 2\n",
            "positive, y: 11, 3\n",
            "negative, y: 12, 1\n",
            "negative, y: 12, 2\n",
            "positive, y: 12, 3\n",
            "negative, y: 13, 1\n",
            "negative, y: 13, 2\n",
            "negative, y: 13, 3\n",
            "positive, y: 14, 1\n",
            "negative, y: 14, 2\n",
            "negative, y: 14, 3\n",
            "positive, y: 15, 1\n",
            "positive, y: 15, 2\n",
            "negative, y: 15, 3\n",
            "positive, y: 16, 1\n",
            "positive, y: 16, 2\n",
            "negative, y: 16, 3\n",
            "positive, y: 17, 1\n",
            "negative, y: 17, 2\n",
            "negative, y: 17, 3\n",
            "negative, y: 18, 1\n",
            "negative, y: 18, 2\n",
            "negative, y: 18, 3\n",
            "positive, y: 19, 1\n",
            "negative, y: 19, 2\n",
            "negative, y: 19, 3\n",
            "positive, y: 20, 1\n",
            "positive, y: 20, 2\n",
            "negative, y: 20, 3\n",
            "41.74573493003845\n"
          ]
        }
      ]
    },
    {
      "cell_type": "code",
      "source": [
        "#doesn't work over 3,3,2 as N,P,M size\n",
        "#print(wcnf.to_dimacs())"
      ],
      "metadata": {
        "id": "eqCd_ORGKJXY"
      },
      "execution_count": null,
      "outputs": []
    },
    {
      "cell_type": "code",
      "source": [
        "start = time.time()\n",
        "solver = RC2(wcnf)\n",
        "end = time.time()\n",
        "print(end - start)"
      ],
      "metadata": {
        "id": "6ddhL7YPT640",
        "colab": {
          "base_uri": "https://localhost:8080/"
        },
        "outputId": "8b063379-75e8-4a05-faf5-dc13e6bb0122"
      },
      "execution_count": null,
      "outputs": [
        {
          "output_type": "stream",
          "name": "stdout",
          "text": [
            "23.841314554214478\n"
          ]
        }
      ]
    },
    {
      "cell_type": "code",
      "source": [
        "start = time.time()\n",
        "model = solver.compute()\n",
        "end = time.time()\n",
        "print(end - start)"
      ],
      "metadata": {
        "id": "Epgjxis1UHiC",
        "colab": {
          "base_uri": "https://localhost:8080/"
        },
        "outputId": "b518c661-ac82-412e-f50c-291ecd8a24bd"
      },
      "execution_count": null,
      "outputs": [
        {
          "output_type": "stream",
          "name": "stdout",
          "text": [
            "253.79344081878662\n"
          ]
        }
      ]
    },
    {
      "cell_type": "code",
      "source": [
        "model"
      ],
      "metadata": {
        "colab": {
          "base_uri": "https://localhost:8080/"
        },
        "id": "bTK3f8HDXvTY",
        "outputId": "218f7efe-cead-44ae-87d6-ee63deef2c04"
      },
      "execution_count": null,
      "outputs": [
        {
          "output_type": "execute_result",
          "data": {
            "text/plain": [
              "[1,\n",
              " 2,\n",
              " 3,\n",
              " -4,\n",
              " 5,\n",
              " -6,\n",
              " 7,\n",
              " 8,\n",
              " 9,\n",
              " 10,\n",
              " 11,\n",
              " 12,\n",
              " -13,\n",
              " -14,\n",
              " -15,\n",
              " 16,\n",
              " -17,\n",
              " -18,\n",
              " -19,\n",
              " 20,\n",
              " -21,\n",
              " 22,\n",
              " -23,\n",
              " -24,\n",
              " -25,\n",
              " -26,\n",
              " 27,\n",
              " -28,\n",
              " -29,\n",
              " 30,\n",
              " 31,\n",
              " 32,\n",
              " 33,\n",
              " 34,\n",
              " -35,\n",
              " 36,\n",
              " 37,\n",
              " -38,\n",
              " -39,\n",
              " 40,\n",
              " -41,\n",
              " 42,\n",
              " 43,\n",
              " -44,\n",
              " -45,\n",
              " -46,\n",
              " -47,\n",
              " -48,\n",
              " -49,\n",
              " -50,\n",
              " -51,\n",
              " -52,\n",
              " 53,\n",
              " -54,\n",
              " -55,\n",
              " 56,\n",
              " -57,\n",
              " -58,\n",
              " -59,\n",
              " -60,\n",
              " -61,\n",
              " -62,\n",
              " 63,\n",
              " -64,\n",
              " 65,\n",
              " -66,\n",
              " 67,\n",
              " 68,\n",
              " -69,\n",
              " 70,\n",
              " -71,\n",
              " 72,\n",
              " -73,\n",
              " 74,\n",
              " 75,\n",
              " 76,\n",
              " -77,\n",
              " 78,\n",
              " 79,\n",
              " 80,\n",
              " -81,\n",
              " -82,\n",
              " -83,\n",
              " -84,\n",
              " 85,\n",
              " -86,\n",
              " -87,\n",
              " -88,\n",
              " 89,\n",
              " -90,\n",
              " 91,\n",
              " 92,\n",
              " -93,\n",
              " 94,\n",
              " -95,\n",
              " -96,\n",
              " -97,\n",
              " -98,\n",
              " 99,\n",
              " 100,\n",
              " -101,\n",
              " -102,\n",
              " 103,\n",
              " 104,\n",
              " -105,\n",
              " 106,\n",
              " 107,\n",
              " 108,\n",
              " 109,\n",
              " 110,\n",
              " -111,\n",
              " 112,\n",
              " 113,\n",
              " -114,\n",
              " 115,\n",
              " 116,\n",
              " 117,\n",
              " -118,\n",
              " -119,\n",
              " -120,\n",
              " 121,\n",
              " -122,\n",
              " -123,\n",
              " 124]"
            ]
          },
          "metadata": {},
          "execution_count": 67
        }
      ]
    },
    {
      "cell_type": "code",
      "source": [
        "w1=np.sign(model[len(train)*len(train[0]):len(train)*len(train[0])+(N*P)]).reshape(N,P)"
      ],
      "metadata": {
        "id": "IzWp-jyoUWhb"
      },
      "execution_count": null,
      "outputs": []
    },
    {
      "cell_type": "code",
      "source": [
        "w1"
      ],
      "metadata": {
        "id": "17TKAjMJWyoL",
        "colab": {
          "base_uri": "https://localhost:8080/"
        },
        "outputId": "0e61d818-bcc2-45d9-b190-3bd7e8809eb4"
      },
      "execution_count": null,
      "outputs": [
        {
          "output_type": "execute_result",
          "data": {
            "text/plain": [
              "array([[-1, -1,  1],\n",
              "       [ 1, -1,  1],\n",
              "       [ 1,  1,  1],\n",
              "       [ 1, -1,  1],\n",
              "       [ 1, -1,  1]])"
            ]
          },
          "metadata": {},
          "execution_count": 69
        }
      ]
    },
    {
      "cell_type": "code",
      "source": [
        "w2=np.sign(model[len(train)*len(train[0])+(N*P):]).reshape(P,M)"
      ],
      "metadata": {
        "id": "AjTjyJ9gUzci"
      },
      "execution_count": null,
      "outputs": []
    },
    {
      "cell_type": "code",
      "source": [
        "w2"
      ],
      "metadata": {
        "id": "Gf1Y7fLYWwg2",
        "colab": {
          "base_uri": "https://localhost:8080/"
        },
        "outputId": "df49b604-7cbf-4ded-ab63-05062a53153e"
      },
      "execution_count": null,
      "outputs": [
        {
          "output_type": "execute_result",
          "data": {
            "text/plain": [
              "array([[ 1,  1, -1],\n",
              "       [-1, -1,  1],\n",
              "       [-1, -1,  1]])"
            ]
          },
          "metadata": {},
          "execution_count": 71
        }
      ]
    },
    {
      "cell_type": "code",
      "source": [
        "pred_train = np.sign(np.matmul(np.sign(np.matmul(train,w1)-0.5),w2)-0.5)\n",
        "pred_test = np.sign(np.matmul(np.sign(np.matmul(test,w1)-0.5),w2)-0.5)"
      ],
      "metadata": {
        "id": "gWJxzyFOVgDz"
      },
      "execution_count": null,
      "outputs": []
    },
    {
      "cell_type": "code",
      "source": [
        "print(f\"Training acc: {accuracy_score(list(itertools.chain(*np.sign(np.array(y_train)-0.5))), list(itertools.chain(*pred_train)))}\")\n",
        "print(f\"Test acc: {accuracy_score(list(itertools.chain(*np.sign(np.array(y_test)-0.5))), list(itertools.chain(*pred_test)))}\")"
      ],
      "metadata": {
        "id": "ebuYPJEUWjYI",
        "colab": {
          "base_uri": "https://localhost:8080/"
        },
        "outputId": "edfa9359-0d40-463a-961d-af0838716518"
      },
      "execution_count": null,
      "outputs": [
        {
          "output_type": "stream",
          "name": "stdout",
          "text": [
            "Training acc: 0.7\n",
            "Test acc: 0.7222222222222222\n"
          ]
        }
      ]
    },
    {
      "cell_type": "code",
      "source": [
        "print(time.time() - time1)"
      ],
      "metadata": {
        "colab": {
          "base_uri": "https://localhost:8080/"
        },
        "id": "8FyoiNvtU570",
        "outputId": "79aa0675-95b7-4a34-eb93-73c8a78a612a"
      },
      "execution_count": null,
      "outputs": [
        {
          "output_type": "stream",
          "name": "stdout",
          "text": [
            "319.70762038230896\n"
          ]
        }
      ]
    }
  ]
}